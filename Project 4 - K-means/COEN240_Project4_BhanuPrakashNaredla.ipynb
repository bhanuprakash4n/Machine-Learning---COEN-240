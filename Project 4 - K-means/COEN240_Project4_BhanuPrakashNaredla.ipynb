{
  "nbformat": 4,
  "nbformat_minor": 0,
  "metadata": {
    "anaconda-cloud": {},
    "kernelspec": {
      "display_name": "Python 3",
      "language": "python",
      "name": "python3"
    },
    "language_info": {
      "codemirror_mode": {
        "name": "ipython",
        "version": 3
      },
      "file_extension": ".py",
      "mimetype": "text/x-python",
      "name": "python",
      "nbconvert_exporter": "python",
      "pygments_lexer": "ipython3",
      "version": "3.5.5"
    },
    "colab": {
      "name": "Assignment_Kmeans.ipynb",
      "provenance": []
    }
  },
  "cells": [
    {
      "cell_type": "markdown",
      "metadata": {
        "id": "EGNl9u_WAdqx"
      },
      "source": [
        "# K-means Clustering Algorithm\n",
        "\n",
        "You will implement the K-means unsupervised learning algorithm.\n",
        "\n",
        "Use the simplified Iris dataset provided to test your code.\n",
        "\n",
        "Column 1: sepal length.\n",
        "Column 2: sepal width\n",
        "\n",
        "50 samples for setosa, 50 samples for versicolor\n",
        "\n",
        "   \n"
      ]
    },
    {
      "cell_type": "code",
      "metadata": {
        "colab": {
          "base_uri": "https://localhost:8080/",
          "height": 285
        },
        "id": "NkmBxlIAAdq4",
        "outputId": "5c65081e-3560-4213-c4d1-050a5ab7ff5b"
      },
      "source": [
        "# Load dataset and plot it\n",
        "\n",
        "%matplotlib inline\n",
        "import numpy as np\n",
        "import pandas as pd\n",
        "from copy import deepcopy\n",
        "from matplotlib import pyplot as plt\n",
        "\n",
        "df = pd.read_csv('/simple_iris_dataset.csv')\n",
        "\n",
        "df1 = df['sepal_length'].values\n",
        "df2 = df['sepal_width'].values\n",
        "X = np.array(list(zip(df1, df2)))   # 100 x 2\n",
        "plt.scatter(df1, df2, c='black', s=7)\n",
        "print(X.shape)"
      ],
      "execution_count": 42,
      "outputs": [
        {
          "output_type": "stream",
          "name": "stdout",
          "text": [
            "(100, 2)\n"
          ]
        },
        {
          "output_type": "display_data",
          "data": {
            "text/plain": [
              "<Figure size 432x288 with 1 Axes>"
            ],
            "image/png": "[encoded data removed]"
          },
          "metadata": {
            "needs_background": "light"
          }
        }
      ]
    },
    {
      "cell_type": "code",
      "source": [
        "## Your code goes here ...\n",
        "\n",
        "def nearest_cluster_index(x, centroids):\n",
        "  ## x is data point passed as list\n",
        "  ## centroid: list of centroids Nx2\n",
        "  cluster_index = 0\n",
        "  min_distance = abs(centroids[0][0] - x[0])  + abs(centroids[0][1] - x[1])\n",
        "  for i in range(1, len(centroids)):\n",
        "    cur_distance = abs(centroids[i][0] - x[0])  + abs(centroids[i][1] - x[1])\n",
        "    if cur_distance < min_distance:\n",
        "      min_distance = cur_distance\n",
        "      cluster_index = i\n",
        "  return cluster_index\n",
        "\n",
        "def compute_centroids(X, clusters):\n",
        "  ## x is a list of data point - Nx2\n",
        "  ## clusters: list representing cluster index of each data point\n",
        "  num_clusters = len(np.unique(clusters))\n",
        "  centroids = np.zeros((num_clusters,2))\n",
        "  count_dp_cluster = [0]*num_clusters\n",
        "\n",
        "  for i in range(0, len(X)):\n",
        "    count_dp_cluster[clusters[i]] = 1 + count_dp_cluster[clusters[i]]\n",
        "    centroids[clusters[i]][0] = centroids[clusters[i]][0] + X[i][0]\n",
        "    centroids[clusters[i]][1] = centroids[clusters[i]][1] + X[i][1]\n",
        "\n",
        "  for i in range(0, num_clusters):\n",
        "    centroids[i][0] = centroids[i][0]/count_dp_cluster[i]\n",
        "    centroids[i][1] = centroids[i][1]/count_dp_cluster[i]\n",
        "  #print(centroids)\n",
        "  return centroids\n",
        "\n",
        "clusters = [None]*len(X)\n",
        "centroids = np.array([[5.0, 3.5],\n",
        "            [6.0, 2.5]])\n",
        "\n",
        "## to stop recomputing centroids\n",
        "stop_flag = False\n",
        "while True:\n",
        "  if stop_flag == True:\n",
        "    break       \n",
        "  stop_flag = True\n",
        "  for i in range(0, len(X)):\n",
        "    ci = nearest_cluster_index(np.array(X[i], dtype=np.float32), centroids)\n",
        "    if ci != clusters[i]:\n",
        "      ## data point is assigned to different cluster. so, we have to recompute centroids\n",
        "      stop_flag = False\n",
        "      clusters[i] = ci    \n",
        "  centroids = compute_centroids(X, clusters)"
      ],
      "metadata": {
        "id": "czxC1JZ1N7Dh"
      },
      "execution_count": 44,
      "outputs": []
    },
    {
      "cell_type": "code",
      "source": [
        "def plot_clusters(X, clusters, centroids):\n",
        "    \"\"\"\n",
        "      X : unlabeled data set, dimension=Nx2.\n",
        "      clusters: N-dimensional vector indicating the cluster assignment \n",
        "        of each data point in X.\n",
        "              [0, 1, 1, ...]\n",
        "      centroids: 2x2 matrix, the row contains the coordinates of the centroids.\n",
        "        [[centroid 1 - 1x2 vector]   \n",
        "         [centroid 2 - 1x2 vector]]   \n",
        "\n",
        "    \"\"\"\n",
        "    colors = ['g', 'r', 'b', 'y', 'c', 'm']\n",
        "    k,_ = np.shape(centroids)\n",
        "\n",
        "    fig, ax = plt.subplots()\n",
        "    for i in range(k):\n",
        "        print(colors[i])\n",
        "        points = np.array([X[j] for j in range(len(X)) if clusters[j] == i])\n",
        "        plt.scatter(points[:, 0], points[:, 1], s=7, c=colors[i])\n",
        "\n",
        "    plt.scatter(centroids[:,0], centroids[:,1], marker='*', s=150, c='y')\n",
        "    \n",
        "plot_clusters(X,clusters, centroids)"
      ],
      "metadata": {
        "colab": {
          "base_uri": "https://localhost:8080/",
          "height": 303
        },
        "id": "s0_D5Gxf5tAo",
        "outputId": "bac01949-9358-4f69-b848-19a269711eac"
      },
      "execution_count": 45,
      "outputs": [
        {
          "output_type": "stream",
          "name": "stdout",
          "text": [
            "g\n",
            "r\n"
          ]
        },
        {
          "output_type": "display_data",
          "data": {
            "text/plain": [
              "<Figure size 432x288 with 1 Axes>"
            ],
            "image/png": "[encoded data removed]"
          },
          "metadata": {
            "needs_background": "light"
          }
        }
      ]
    }
  ]
}