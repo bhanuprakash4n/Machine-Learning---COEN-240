{
  "nbformat": 4,
  "nbformat_minor": 0,
  "metadata": {
    "anaconda-cloud": {},
    "kernelspec": {
      "display_name": "Python 3",
      "language": "python",
      "name": "python3"
    },
    "language_info": {
      "codemirror_mode": {
        "name": "ipython",
        "version": 3
      },
      "file_extension": ".py",
      "mimetype": "text/x-python",
      "name": "python",
      "nbconvert_exporter": "python",
      "pygments_lexer": "ipython3",
      "version": "3.5.5"
    },
    "colab": {
      "name": "Assignment_Kmeans_SOLUTION.ipynb",
      "provenance": []
    }
  },
  "cells": [
    {
      "cell_type": "markdown",
      "metadata": {
        "id": "EGNl9u_WAdqx"
      },
      "source": [
        "# K-means Clustering Algorithm\n",
        "\n",
        "You will implement the K-means unsupervised learning algorithm.\n",
        "\n",
        "Use the simplified Iris dataset provided to test your code.\n",
        "\n",
        "Column 1: sepal length.\n",
        "Column 2: sepal width\n",
        "\n",
        "50 samples for setosa, 50 samples for versicolor\n",
        "\n",
        "   \n"
      ]
    },
    {
      "cell_type": "code",
      "metadata": {
        "colab": {
          "base_uri": "https://localhost:8080/",
          "height": 285
        },
        "id": "NkmBxlIAAdq4",
        "outputId": "df915087-6a9b-4c6d-c9e9-8c95120543de"
      },
      "source": [
        "# Load dataset and plot it\n",
        "\n",
        "%matplotlib inline\n",
        "import numpy as np\n",
        "import pandas as pd\n",
        "from copy import deepcopy\n",
        "from matplotlib import pyplot as plt\n",
        "\n",
        "df = pd.read_csv('simple_iris_dataset.csv')\n",
        "\n",
        "df1 = df['sepal_length'].values\n",
        "df2 = df['sepal_width'].values\n",
        "X = np.array(list(zip(df1, df2)))   # 100 x 2\n",
        "plt.scatter(df1, df2, c='black', s=7)\n",
        "print(X.shape)"
      ],
      "execution_count": 1,
      "outputs": [
        {
          "output_type": "stream",
          "name": "stdout",
          "text": [
            "(100, 2)\n"
          ]
        },
        {
          "output_type": "display_data",
          "data": {
            "text/plain": [
              "<Figure size 432x288 with 1 Axes>"
            ],
            "image/png": "[encoded data removed]"
          },
          "metadata": {
            "needs_background": "light"
          }
        }
      ]
    },
    {
      "cell_type": "code",
      "source": [
        "## Your code goes here ...\n"
      ],
      "metadata": {
        "id": "czxC1JZ1N7Dh"
      },
      "execution_count": 2,
      "outputs": []
    }
  ]
}