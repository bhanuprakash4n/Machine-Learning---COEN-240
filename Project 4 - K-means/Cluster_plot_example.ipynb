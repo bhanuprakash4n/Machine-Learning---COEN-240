{
  "nbformat": 4,
  "nbformat_minor": 0,
  "metadata": {
    "anaconda-cloud": {},
    "kernelspec": {
      "display_name": "Python 3",
      "language": "python",
      "name": "python3"
    },
    "language_info": {
      "codemirror_mode": {
        "name": "ipython",
        "version": 3
      },
      "file_extension": ".py",
      "mimetype": "text/x-python",
      "name": "python",
      "nbconvert_exporter": "python",
      "pygments_lexer": "ipython3",
      "version": "3.5.5"
    },
    "colab": {
      "name": "Cluster_plot_example.ipynb",
      "provenance": []
    }
  },
  "cells": [
    {
      "cell_type": "code",
      "metadata": {
        "id": "NkmBxlIAAdq4"
      },
      "source": [
        "import numpy as np\n",
        "from matplotlib import pyplot as plt\n"
      ],
      "execution_count": null,
      "outputs": []
    },
    {
      "cell_type": "code",
      "metadata": {
        "id": "7pRZA4gZuhzP"
      },
      "source": [
        "def plot_clusters(X, clusters, centroids):\n",
        "    \"\"\"\n",
        "      X : unlabeled data set, dimension=Nx2.\n",
        "      clusters: N-dimensional vector indicating the cluster assignment \n",
        "        of each data point in X.\n",
        "              [0, 1, 1, ...]\n",
        "      centroids: 2x2 matrix, the row contains the coordinates of the centroids.\n",
        "        [[centroid 1 - 1x2 vector]   \n",
        "         [centroid 2 - 1x2 vector]]   \n",
        "\n",
        "    \"\"\"\n",
        "    colors = ['r', 'g', 'b', 'y', 'c', 'm']\n",
        "    k,_ = np.shape(centroids)\n",
        "\n",
        "    fig, ax = plt.subplots()\n",
        "    for i in range(k):\n",
        "        print(colors[i])\n",
        "        points = np.array([X[j] for j in range(len(X)) if clusters[j] == i])\n",
        "        plt.scatter(points[:, 0], points[:, 1], s=7, c=colors[i])\n",
        "\n",
        "    plt.scatter(centroids[:,0], centroids[:,1], marker='*', s=150, c='y')"
      ],
      "execution_count": 1,
      "outputs": []
    },
    {
      "cell_type": "code",
      "metadata": {
        "id": "QV5rBWDRFOw5",
        "colab": {
          "base_uri": "https://localhost:8080/",
          "height": 300
        },
        "outputId": "ea193de8-f668-4347-90e1-aebfc1a79eda"
      },
      "source": [
        "clusters = np.array([0, 1, 1, 0, 0, 1, 0])\n",
        "X = np.array([[4.8,2.6], [5.7,3.4], [5.5,3.5], [5.0,2.5], [4.9,2.8], [5.5,3.2], [4.7,2.7]])\n",
        "centroids = np.array([[5.58,3.37], [4.85,2.67]])\n",
        "plot_clusters(X,clusters, centroids)"
      ],
      "execution_count": null,
      "outputs": [
        {
          "output_type": "stream",
          "name": "stdout",
          "text": [
            "r\n",
            "g\n"
          ]
        },
        {
          "output_type": "display_data",
          "data": {
            "text/plain": [
              "<Figure size 432x288 with 1 Axes>"
            ],
            "image/png": "[encoded data removed]"
          },
          "metadata": {
            "needs_background": "light"
          }
        }
      ]
    }
  ]
}