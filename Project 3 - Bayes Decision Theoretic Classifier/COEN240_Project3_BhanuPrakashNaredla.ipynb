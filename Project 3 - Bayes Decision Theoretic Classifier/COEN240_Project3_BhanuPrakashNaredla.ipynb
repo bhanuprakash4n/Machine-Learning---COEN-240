{
  "nbformat": 4,
  "nbformat_minor": 0,
  "metadata": {
    "anaconda-cloud": {},
    "kernelspec": {
      "display_name": "Python 3",
      "language": "python",
      "name": "python3"
    },
    "language_info": {
      "codemirror_mode": {
        "name": "ipython",
        "version": 3
      },
      "file_extension": ".py",
      "mimetype": "text/x-python",
      "name": "python",
      "nbconvert_exporter": "python",
      "pygments_lexer": "ipython3",
      "version": "3.5.5"
    },
    "colab": {
      "name": "COEN240_Project3_BhanuPrakashNaredla.ipynb",
      "provenance": []
    }
  },
  "cells": [
    {
      "cell_type": "markdown",
      "metadata": {
        "collapsed": true,
        "id": "d1jvXBfCDRqN"
      },
      "source": [
        "# DISCRIMINANT ANALYSIS\n",
        "\n",
        "In this coding assignment you are to implement a Minimum Risk Bayes Decision Theoretic classifier and use it to classify the test examples in the provided datasets.  \n",
        "Assume the following:\n",
        "1. All conditional density functions are multivariate Gaussian\n",
        "2. Each class has its own covariance matrix\n",
        "3. Equally likely prior probabilities\n",
        "4. 0-1 loss function\n"
      ]
    },
    {
      "cell_type": "markdown",
      "metadata": {
        "id": "-d-qRoESDRqP"
      },
      "source": [
        "## Training Phase"
      ]
    },
    {
      "cell_type": "code",
      "metadata": {
        "id": "a5tFsCiqDRqQ",
        "colab": {
          "base_uri": "https://localhost:8080/"
        },
        "outputId": "e3251d2a-8f10-4869-fefc-896c66d97ce7"
      },
      "source": [
        "import numpy as np\n",
        "import pandas as pd\n",
        "import matplotlib.pyplot as plt\n",
        "\n",
        "# Load training data - 135 observations, 4 features, 3 classes, \n",
        "df = pd.read_csv(\"/iris_corrupted_training_data.csv\")\n",
        "print(df.head())\n",
        "df = df.values\n",
        "tr_data = df\n",
        "\n",
        "# Load validation data - 15 samples\n",
        "df = pd.read_csv(\"/iris_validation_data.csv\")\n",
        "print(df.head())\n",
        "df = df.values\n",
        "val_data = df"
      ],
      "execution_count": 20,
      "outputs": [
        {
          "output_type": "stream",
          "name": "stdout",
          "text": [
            "   sepal_length   sepal_width   petal_length   petal_width   class\n",
            "0        5.7147        2.6743         3.2696       1.65440       2\n",
            "1        5.1734        3.7374         5.9442       3.00050       3\n",
            "2        7.3776        3.1505         3.3543       0.64839       2\n",
            "3        6.4908        2.3983         3.3917       1.54950       2\n",
            "4        6.8182        3.4016         4.7495       0.57970       3\n",
            "   sepal_length   sepal_width   petal_length   petal_width   class\n",
            "0           4.4           2.9            1.4           0.2       1\n",
            "1           6.7           3.0            5.2           2.3       3\n",
            "2           4.9           3.1            1.5           0.2       1\n",
            "3           5.1           2.5            3.0           1.1       2\n",
            "4           6.1           3.0            4.6           1.4       2\n"
          ]
        }
      ]
    },
    {
      "cell_type": "code",
      "metadata": {
        "id": "wbgINl8MDRqc"
      },
      "source": [
        "### Determine the various components of the discriminant functions\n",
        "\n",
        "# TO DO: \n",
        "# Find the mean of each class\n",
        "#  u1, u2, u3 are the 1x4 mean vectors for tr_data1, tr_data2, tr_data3 matrices\n",
        "#  where tr_data1 is a 45x4 matrix consisting of all class 1 examples. Same is\n",
        "#  true for tr_data2 and tr_data3. Hence dimensions of u1, u2, u3 = 1x4\n",
        "\n",
        "tr_data1 = (tr_data[tr_data[:,4] == 1])[:,0:4]\n",
        "tr_data2 = (tr_data[tr_data[:,4] == 2])[:,0:4]\n",
        "tr_data3 = (tr_data[tr_data[:,4] == 3])[:,0:4]\n",
        "\n",
        "u1 = tr_data1.mean(axis=0)\n",
        "u2 = tr_data2.mean(axis=0)\n",
        "u3 = tr_data3.mean(axis=0)\n",
        "\n",
        "mean_matrix1 = np.array(45*[4*[1.1]])\n",
        "mean_matrix2 = np.array(45*[4*[1.1]])\n",
        "mean_matrix3 = np.array(45*[4*[1.1]])\n",
        "\n",
        "for i in range(0, 4):\n",
        "  mean_matrix1[:,i] = u1[i]\n",
        "\n",
        "for i in range(0, 4):\n",
        "  mean_matrix2[:,i] = u2[i]\n",
        "\n",
        "for i in range(0, 4):\n",
        "  mean_matrix3[:,i] = u3[i]\n",
        "\n",
        "# TO DO:\n",
        "# Find the covariance of each class\n",
        "#  cov1, cov2, cov3 are the covariance matrices of \n",
        "#      tr_data1, tr_data2, tr_data3\n",
        "#  dimension cov1, cov2, cov3 must be 4x4\n",
        "cov1 = np.matmul((tr_data1-mean_matrix1).transpose(), (tr_data1-mean_matrix1))/45\n",
        "cov2 = np.matmul((tr_data2-mean_matrix2).transpose(), (tr_data2-mean_matrix2))/45\n",
        "cov3 = np.matmul((tr_data3-mean_matrix3).transpose(), (tr_data3-mean_matrix3))/45\n",
        "\n",
        "# TO DO: \n",
        "# Compute the determinant of cov* and its log. These are scalar quantities\n",
        "detlog_cv1 = np.log(np.linalg.det(cov1))\n",
        "detlog_cv2 = np.log(np.linalg.det(cov2))\n",
        "detlog_cv3 = np.log(np.linalg.det(cov3))\n",
        "\n",
        "# TO DO:\n",
        "# Compute the inverse of cov*\n",
        "#   These are matrices of size 4x4\n",
        "#   Hint: you may use np.linalg.inv\n",
        "cov_inv1 = np.linalg.inv(cov1)\n",
        "cov_inv2 = np.linalg.inv(cov2)\n",
        "cov_inv3 = np.linalg.inv(cov3)\n",
        "\n",
        "# Equally likely proir prob.\n",
        "log_prior = np.log(1/3)"
      ],
      "execution_count": 21,
      "outputs": []
    },
    {
      "cell_type": "code",
      "metadata": {
        "id": "hLRWIp4_K2Rr",
        "colab": {
          "base_uri": "https://localhost:8080/"
        },
        "outputId": "71b2755c-6824-4a65-c722-842e2502ee5e"
      },
      "source": [
        "# print the mean vectors\n",
        "print(u1)\n",
        "print(u2)\n",
        "print(u3)"
      ],
      "execution_count": 22,
      "outputs": [
        {
          "output_type": "stream",
          "name": "stdout",
          "text": [
            "[4.80081778 3.48799556 1.26920989 0.34787733]\n",
            "[6.06588222 2.82287978 4.26241333 1.10785197]\n",
            "[6.42966    2.95656956 5.55874667 1.92476547]\n"
          ]
        }
      ]
    },
    {
      "cell_type": "markdown",
      "metadata": {
        "id": "I0ab1rXfDRqi"
      },
      "source": [
        "## Validation phase"
      ]
    },
    {
      "cell_type": "code",
      "metadata": {
        "id": "6d1zwqD6DRqj",
        "colab": {
          "base_uri": "https://localhost:8080/"
        },
        "outputId": "97d8245f-f4cf-48ce-9c1a-b1c8b21fca1f"
      },
      "source": [
        "# Evaluate the model accuracy with the validation dataset\n",
        "# The dimension of the validation dataset, val_data, is 15x5. The first four\n",
        "# columns are the feature columns and the last column is the class label column\n",
        "\n",
        "# For each sample, compute the discriminant function (g1, g2, g3) corresponding to each class\n",
        "# Assume equal prior = 1/3\n",
        "# The predicted class label is associated with the largest of g1, g2, g3\n",
        "# Count the number of correctly predicted labels\n",
        "\n",
        "correct_class = 0;  # number of correctly predicted label\n",
        "\n",
        "for i in range(0, len(val_data)):\n",
        "    test_data = val_data[i][0:4]\n",
        "    y = val_data[i][4]\n",
        "\n",
        "    # TO DO: compute g1, g2, g3\n",
        "    g1 = (-(test_data - u1).dot(cov_inv1).dot((test_data - u1).transpose())/2) - (detlog_cv1/2) + log_prior\n",
        "    g2 = (-(test_data - u2).dot(cov_inv2).dot((test_data - u2).transpose())/2) - (detlog_cv2/2) + log_prior\n",
        "    g3 = (-(test_data - u3).dot(cov_inv3).dot((test_data - u3).transpose())/2) - (detlog_cv3/2) + log_prior \n",
        "\n",
        "    # TO DO: \n",
        "    #  Now find the predicted class y_hat, compare it with the true label y\n",
        "    #  and count the number of corectly predicted labels (correct_class)\n",
        "    #  Recall this is a classification problem, hence y_hat should be \n",
        "    #  a discrete value (1, 2 or 3)\n",
        "    if g1>g2 and g1>g3:\n",
        "      yhat = 1\n",
        "    elif g2>g1 and g2>g3:\n",
        "      yhat = 2\n",
        "    else:\n",
        "      yhat = 3\n",
        "\n",
        "    if (yhat == y):\n",
        "        correct_class = correct_class + 1;\n",
        "\n",
        "print('Classification accuracy = ', '{0:.4f}'. format(correct_class/15))"
      ],
      "execution_count": 23,
      "outputs": [
        {
          "output_type": "stream",
          "name": "stdout",
          "text": [
            "Classification accuracy =  0.9333\n"
          ]
        }
      ]
    }
  ]
}