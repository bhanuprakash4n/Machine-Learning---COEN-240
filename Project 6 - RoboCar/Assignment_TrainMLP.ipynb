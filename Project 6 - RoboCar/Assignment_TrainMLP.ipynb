{
  "nbformat": 4,
  "nbformat_minor": 0,
  "metadata": {
    "colab": {
      "name": "Assignment_TrainMLP.ipynb",
      "provenance": []
    },
    "kernelspec": {
      "name": "python3",
      "display_name": "Python 3"
    },
    "language_info": {
      "name": "python"
    }
  },
  "cells": [
    {
      "cell_type": "code",
      "execution_count": null,
      "metadata": {
        "id": "QZuy26weVxhK"
      },
      "outputs": [],
      "source": [
        "import numpy as np\n",
        "import numpy.matlib\n",
        "import pandas as pd\n",
        "\n",
        "InputNodes = 3\n",
        "HiddenNodes = 2\n",
        "OutputNodes = 2\n",
        "\n",
        "Input = np.array([[0,0,0],\n",
        "                  [0,0,1],\n",
        "                  [0,1,0],\n",
        "                  [1,0,0]])\n",
        "\n",
        "Target = np.array([[1,1],\n",
        "                   [0,0],\n",
        "                   [1,0],\n",
        "                   [0,1]])\n",
        "\n",
        "Hidden = np.zeros((HiddenNodes,1))\n",
        "Output = np.zeros((OutputNodes,1))\n",
        "\n",
        "# Initialize the weights randomly with a seed\n",
        "rng = np.random.default_rng(seed=12)\n",
        "HiddenWeights = rng.random((HiddenNodes, InputNodes+1))\n",
        "OutputWeights = rng.random((OutputNodes, HiddenNodes+1))\n",
        "\n",
        "## Your code goes here ...\n",
        "\n",
        "\n",
        "\n",
        "###################################################################\n",
        "\n",
        "## Print Hidden Weights and Output Weights\n",
        "for i in range(HiddenNodes):\n",
        "  print('HiddenWeights[{}]: {}'.format(i, HiddenWeights[i,:]))\n",
        "\n",
        "for i in range(OutputNodes):\n",
        "  print('OutputWeights[{}]: {}'.format(i, OutputWeights[i,:]))\n",
        "\n",
        "## Save Hidden Weights and Output Weights to .csv file\n",
        "df = pd.concat([pd.DataFrame(HiddenWeights), pd.DataFrame(OutputWeights)])\n",
        "df.to_csv('MLP_weights.csv', index=False, header=False)\n",
        "\n",
        "## Download to local directory\n",
        "from google.colab import files\n",
        "files.download('MLP_weights.csv') "
      ]
    }
  ]
}