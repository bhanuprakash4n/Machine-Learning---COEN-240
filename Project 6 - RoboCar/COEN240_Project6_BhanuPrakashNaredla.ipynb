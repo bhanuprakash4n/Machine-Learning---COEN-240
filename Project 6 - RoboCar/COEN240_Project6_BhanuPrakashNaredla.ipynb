{
  "nbformat": 4,
  "nbformat_minor": 0,
  "metadata": {
    "colab": {
      "name": "COEN240_Project6_BhanuPrakashNaredla.ipynb",
      "provenance": []
    },
    "kernelspec": {
      "name": "python3",
      "display_name": "Python 3"
    },
    "language_info": {
      "name": "python"
    },
    "accelerator": "GPU"
  },
  "cells": [
    {
      "cell_type": "code",
      "execution_count": 7,
      "metadata": {
        "id": "QZuy26weVxhK"
      },
      "outputs": [],
      "source": [
        "import numpy as np\n",
        "import numpy.matlib\n",
        "import pandas as pd\n",
        "import math\n",
        "\n",
        "InputNodes = 3\n",
        "HiddenNodes = 2\n",
        "OutputNodes = 2\n",
        "\n",
        "Input = np.array([[0,0,0],\n",
        "                  [0,0,1],\n",
        "                  [0,1,0],\n",
        "                  [1,0,0]])\n",
        "\n",
        "Target = np.array([[1,1],\n",
        "                   [0,0],\n",
        "                   [1,0],\n",
        "                   [0,1]])\n",
        "\n",
        "Hidden = np.zeros((HiddenNodes,1))\n",
        "Output = np.zeros((OutputNodes,1))\n",
        "\n",
        "# Initialize the weights randomly with a seed\n",
        "rng = np.random.default_rng(seed=12)\n",
        "HiddenWeights = rng.random((HiddenNodes, InputNodes+1))\n",
        "OutputWeights = rng.random((OutputNodes, HiddenNodes+1))"
      ]
    },
    {
      "cell_type": "code",
      "source": [
        "def sigmoid(x):\n",
        "  return 1.0/(1.0 + np.exp(-x))"
      ],
      "metadata": {
        "id": "PWhxDL_eIWok"
      },
      "execution_count": 8,
      "outputs": []
    },
    {
      "cell_type": "code",
      "source": [
        "def calculate_error(d,y):\n",
        "  error = 0.0\n",
        "  for k in range(OutputNodes):\n",
        "    error = error + (d[k] - y[k])**2\n",
        "  error = error/2.0\n",
        "  return error"
      ],
      "metadata": {
        "id": "l_4BDe5IROzD"
      },
      "execution_count": 9,
      "outputs": []
    },
    {
      "cell_type": "code",
      "source": [
        "def deltaK(dk, yk):\n",
        "  return ((dk-yk)*(yk*(1-yk)))\n",
        "\n",
        "def deltaJ(d, y, w, yj, j):\n",
        "  sum = 0.0\n",
        "  for k in range(OutputNodes):\n",
        "    sum = sum + deltaK(d[k], y[k])*w[k][j]*yj*(1-yj) \n",
        "  return sum"
      ],
      "metadata": {
        "id": "Ufit0AvsVzne"
      },
      "execution_count": 10,
      "outputs": []
    },
    {
      "cell_type": "code",
      "source": [
        "## Your code goes here ... \n",
        "learning_rate = 0.01\n",
        "run = True\n",
        "epoch = 0\n",
        "while run:\n",
        "  run = False\n",
        "  epoch = epoch + 1\n",
        "  temp = list(zip(Input, Target))\n",
        "  np.random.shuffle(temp)\n",
        "  Input, Target = zip(*temp)\n",
        "  \n",
        "  for obs in range(len(Input)):\n",
        "    HiddenV = []\n",
        "    HiddenY = []\n",
        "    for j in range(HiddenNodes):\n",
        "      vj = HiddenWeights[j][InputNodes]\n",
        "      for i in range(InputNodes):\n",
        "        vj = vj + Input[obs][i] * HiddenWeights[j][i]\n",
        "      HiddenV.append(vj)\n",
        "      HiddenY.append(sigmoid(vj))\n",
        "\n",
        "    OutputV = []\n",
        "    OutputY = []\n",
        "    for k in range(OutputNodes):\n",
        "      vk = OutputWeights[k][HiddenNodes]\n",
        "      for j in range(HiddenNodes):\n",
        "        vk = vk + HiddenY[j] * OutputWeights[k][j]\n",
        "      OutputV.append(vk)\n",
        "      OutputY.append(sigmoid(vk))\n",
        "    \n",
        "    if calculate_error(Target[obs], OutputY) >= 0.005:\n",
        "      run = True\n",
        "\n",
        "    ############ Back Propogate error and update weights ############\n",
        "    for k in range(OutputNodes):\n",
        "      for j in range(HiddenNodes):\n",
        "        OutputWeights[k][j] = OutputWeights[k][j] + learning_rate * deltaK(Target[obs][k], OutputY[k]) * HiddenY[j]\n",
        "      OutputWeights[k][HiddenNodes] = OutputWeights[k][HiddenNodes] + learning_rate * deltaK(Target[obs][k], OutputY[k])\n",
        "\n",
        "    for j in range(HiddenNodes):\n",
        "      for i in range(InputNodes):\n",
        "        HiddenWeights[j][i] = HiddenWeights[j][i] + learning_rate * deltaJ(Target[obs], OutputY, OutputWeights, HiddenY[j], j) * Input[obs][i]\n",
        "      HiddenWeights[j][InputNodes] = HiddenWeights[j][InputNodes] + learning_rate * deltaJ(Target[obs], OutputY, OutputWeights, HiddenY[j], j)\n",
        "print(\"Epoch's taken:\", epoch)\n",
        "print(\"Learning rate:\", learning_rate)"
      ],
      "metadata": {
        "id": "tvw7ni4xIXHj",
        "colab": {
          "base_uri": "https://localhost:8080/"
        },
        "outputId": "3da03701-34c7-41fa-cfb4-90ca0baaa1c8"
      },
      "execution_count": 11,
      "outputs": [
        {
          "output_type": "stream",
          "name": "stdout",
          "text": [
            "Epoch's taken: 34372\n",
            "Learning rate: 0.01\n"
          ]
        }
      ]
    },
    {
      "cell_type": "code",
      "source": [
        "###################################################################\n",
        "\n",
        "## Print Hidden Weights and Output Weights\n",
        "for i in range(HiddenNodes):\n",
        "  print('HiddenWeights[{}]: {}'.format(i, HiddenWeights[i,:]))\n",
        "\n",
        "for i in range(OutputNodes):\n",
        "  print('OutputWeights[{}]: {}'.format(i, OutputWeights[i,:]))\n",
        "\n",
        "## Save Hidden Weights and Output Weights to .csv file\n",
        "df = pd.concat([pd.DataFrame(HiddenWeights), pd.DataFrame(OutputWeights)])\n",
        "df.to_csv('MLP_weights.csv', index=False, header=False)\n",
        "\n",
        "## Download to local directory\n",
        "from google.colab import files\n",
        "files.download('MLP_weights.csv') "
      ],
      "metadata": {
        "colab": {
          "base_uri": "https://localhost:8080/",
          "height": 86
        },
        "id": "P2GmKEHCIff8",
        "outputId": "603bb14f-590c-4c70-daae-3c60e806ef2c"
      },
      "execution_count": 12,
      "outputs": [
        {
          "output_type": "stream",
          "name": "stdout",
          "text": [
            "HiddenWeights[0]: [-4.10212557  2.32191113 -3.6069506   1.46524781]\n",
            "HiddenWeights[1]: [-1.77597593  4.02791419  3.97355297 -1.87917103]\n",
            "OutputWeights[0]: [ 7.06832    -0.79908255 -2.98034332]\n",
            "OutputWeights[1]: [ 0.35516243 -6.92810986  3.13544464]\n"
          ]
        },
        {
          "output_type": "display_data",
          "data": {
            "text/plain": [
              "<IPython.core.display.Javascript object>"
            ],
            "application/javascript": [
              "\n",
              "    async function download(id, filename, size) {\n",
              "      if (!google.colab.kernel.accessAllowed) {\n",
              "        return;\n",
              "      }\n",
              "      const div = document.createElement('div');\n",
              "      const label = document.createElement('label');\n",
              "      label.textContent = `Downloading \"${filename}\": `;\n",
              "      div.appendChild(label);\n",
              "      const progress = document.createElement('progress');\n",
              "      progress.max = size;\n",
              "      div.appendChild(progress);\n",
              "      document.body.appendChild(div);\n",
              "\n",
              "      const buffers = [];\n",
              "      let downloaded = 0;\n",
              "\n",
              "      const channel = await google.colab.kernel.comms.open(id);\n",
              "      // Send a message to notify the kernel that we're ready.\n",
              "      channel.send({})\n",
              "\n",
              "      for await (const message of channel.messages) {\n",
              "        // Send a message to notify the kernel that we're ready.\n",
              "        channel.send({})\n",
              "        if (message.buffers) {\n",
              "          for (const buffer of message.buffers) {\n",
              "            buffers.push(buffer);\n",
              "            downloaded += buffer.byteLength;\n",
              "            progress.value = downloaded;\n",
              "          }\n",
              "        }\n",
              "      }\n",
              "      const blob = new Blob(buffers, {type: 'application/binary'});\n",
              "      const a = document.createElement('a');\n",
              "      a.href = window.URL.createObjectURL(blob);\n",
              "      a.download = filename;\n",
              "      div.appendChild(a);\n",
              "      a.click();\n",
              "      div.remove();\n",
              "    }\n",
              "  "
            ]
          },
          "metadata": {}
        },
        {
          "output_type": "display_data",
          "data": {
            "text/plain": [
              "<IPython.core.display.Javascript object>"
            ],
            "application/javascript": [
              "download(\"download_1de5a9c4-bc96-4b4b-84da-13ff0c2e355c\", \"MLP_weights.csv\", 269)"
            ]
          },
          "metadata": {}
        }
      ]
    }
  ]
}