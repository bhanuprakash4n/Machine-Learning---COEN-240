{
  "nbformat": 4,
  "nbformat_minor": 0,
  "metadata": {
    "colab": {
      "name": "Verify_Weights.ipynb",
      "provenance": []
    },
    "kernelspec": {
      "name": "python3",
      "display_name": "Python 3"
    },
    "language_info": {
      "name": "python"
    }
  },
  "cells": [
    {
      "cell_type": "code",
      "execution_count": null,
      "metadata": {
        "id": "QZuy26weVxhK"
      },
      "outputs": [],
      "source": [
        "from google.colab import files\n",
        "!rm MLP_weights.csv\n",
        "uploaded = files.upload()"
      ]
    },
    {
      "cell_type": "code",
      "source": [
        "import numpy as np\n",
        "import numpy.matlib\n",
        "import pandas as pd\n",
        "\n",
        "InputNodes = 3\n",
        "HiddenNodes = 2\n",
        "OutputNodes = 2\n",
        "\n",
        "Hidden = np.zeros((HiddenNodes,1))\n",
        "Output = np.zeros((OutputNodes,1))\n",
        "HiddenWeights = np.zeros((InputNodes+1, HiddenNodes))\n",
        "OutputWeights = np.zeros((HiddenNodes+1, OutputNodes))\n",
        "\n",
        "Input = np.array([[0,0,0],\n",
        "                  [0,0,1],\n",
        "                  [0,1,0],\n",
        "                  [1,0,0]])\n",
        "\n",
        "Target = np.array([[1,1],\n",
        "                   [0,0],\n",
        "                   [1,0],\n",
        "                   [0,1]])\n",
        "\n",
        "df = pd.read_csv(\"MLP_weights.csv\", header=None)\n",
        "dfNumPy = df.to_numpy()\n",
        "HiddenWeights = np.transpose(dfNumPy[0:2,:])\n",
        "OutputWeights = np.transpose(dfNumPy[2:4,0:3])\n",
        "\n",
        "for p in range(4):\n",
        "  print(' ')\n",
        "  print(' Training Pattern: ', p)\n",
        " \n",
        "  Accum = np.sum(np.multiply((np.hstack((np.matlib.repmat(Input[p],2,1), \n",
        "                np.ones((HiddenNodes,1))))).transpose(), \n",
        "                HiddenWeights),\n",
        "                axis=0, keepdims=True)\n",
        "  Hidden = 1.0 / (1+np.exp(-Accum))\n",
        "\n",
        "  Accum = np.sum(np.multiply((np.hstack((Hidden, np.ones((1,1))))).transpose(), \n",
        "                OutputWeights), \n",
        "                axis=0, keepdims=True)\n",
        "  Output = 1.0/(1.0 + np.exp(-Accum))\n",
        "\n",
        "  print(' Input {}  Target {}  Output {}'.format(Input[p], Target[p], Output))\n",
        "\n",
        "print(' ')"
      ],
      "metadata": {
        "id": "Jevxvlvzl5GH"
      },
      "execution_count": null,
      "outputs": []
    }
  ]
}